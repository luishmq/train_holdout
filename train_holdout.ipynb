{
 "cells": [
  {
   "cell_type": "markdown",
   "id": "defa3db2",
   "metadata": {
    "heading_collapsed": true
   },
   "source": [
    "# 0.0 Imports"
   ]
  },
  {
   "cell_type": "code",
   "execution_count": 1,
   "id": "70d685c3",
   "metadata": {
    "ExecuteTime": {
     "end_time": "2023-03-11T01:31:53.211643Z",
     "start_time": "2023-03-11T01:31:52.353478Z"
    },
    "hidden": true
   },
   "outputs": [],
   "source": [
    "# Import libraries\n",
    "\n",
    "import numpy                           as np\n",
    "import pandas                          as pd\n",
    "from sklearn    import datasets        as ds\n",
    "from sklearn    import tree            as tr\n",
    "from sklearn    import metrics         as mt\n",
    "from sklearn    import model_selection as ms\n",
    "from matplotlib import pyplot          as plt"
   ]
  },
  {
   "cell_type": "markdown",
   "id": "e0ac6f1b",
   "metadata": {
    "heading_collapsed": true
   },
   "source": [
    "# 1.0 Loading Dataset"
   ]
  },
  {
   "cell_type": "code",
   "execution_count": 2,
   "id": "5a32b68a",
   "metadata": {
    "ExecuteTime": {
     "end_time": "2023-03-11T01:31:53.225795Z",
     "start_time": "2023-03-11T01:31:53.221562Z"
    },
    "hidden": true
   },
   "outputs": [],
   "source": [
    "# Dados sintéticos para produção\n",
    "n_samples = 20000\n",
    "n_features = 2\n",
    "n_informative = 2\n",
    "n_redundant = 0\n",
    "random_state = 0\n",
    "\n",
    "# Dados para treinamento\n",
    "X, y = ds.make_classification( n_samples=n_samples, n_features=n_features,\n",
    "n_informative=n_informative, n_redundant=n_redundant,\n",
    "random_state=random_state )\n",
    "\n",
    "# Separação dos dados para produção\n",
    "X, x_prod, y, y_prod = ms.train_test_split( X, y, test_size=0.3 )"
   ]
  },
  {
   "cell_type": "markdown",
   "id": "96b747eb",
   "metadata": {
    "heading_collapsed": true
   },
   "source": [
    "# 2.0 Holdout - Train and Test "
   ]
  },
  {
   "cell_type": "code",
   "execution_count": 3,
   "id": "76ddca02",
   "metadata": {
    "ExecuteTime": {
     "end_time": "2023-03-11T01:31:54.978413Z",
     "start_time": "2023-03-11T01:31:54.970403Z"
    },
    "hidden": true
   },
   "outputs": [],
   "source": [
    "# Separação dos dados em treino e teste\n",
    "x_train, x_test, y_train, y_test = ms.train_test_split(X, y, test_size=0.3, random_state=0)"
   ]
  },
  {
   "cell_type": "code",
   "execution_count": 4,
   "id": "eb69e23d",
   "metadata": {
    "ExecuteTime": {
     "end_time": "2023-03-11T01:31:56.398922Z",
     "start_time": "2023-03-11T01:31:56.370246Z"
    },
    "hidden": true
   },
   "outputs": [
    {
     "name": "stdout",
     "output_type": "stream",
     "text": [
      "Accuracy: 0.8807142857142857\n"
     ]
    }
   ],
   "source": [
    "# Treinando o modelo sobre os dados de treino\n",
    "model = tr.DecisionTreeClassifier(max_depth=6)\n",
    "model.fit(x_train, y_train)\n",
    "\n",
    "# Previsão sobre os dados de teste\n",
    "y_hat_test = model.predict(x_test)\n",
    "score = mt.accuracy_score(y_test, y_hat_test)\n",
    "print(\"Accuracy: {}\".format(score))"
   ]
  },
  {
   "cell_type": "markdown",
   "id": "c56e0917",
   "metadata": {
    "heading_collapsed": true,
    "hidden": true
   },
   "source": [
    "## 2.1 Fine Tuning"
   ]
  },
  {
   "cell_type": "code",
   "execution_count": 5,
   "id": "37dec67a",
   "metadata": {
    "ExecuteTime": {
     "end_time": "2023-03-11T01:32:00.599368Z",
     "start_time": "2023-03-11T01:31:59.703247Z"
    },
    "hidden": true
   },
   "outputs": [],
   "source": [
    "# Encontrando o melhor parâmetro\n",
    "values = np.arange(1, 60, 1)\n",
    "scores = list()\n",
    "\n",
    "for i in values:\n",
    "    model = tr.DecisionTreeClassifier(max_depth=i)\n",
    "    model.fit(x_train, y_train)\n",
    "\n",
    "    y_hat_test = model.predict(x_test)\n",
    "    score = mt.accuracy_score(y_test, y_hat_test)\n",
    "    \n",
    "    scores.append(score)"
   ]
  },
  {
   "cell_type": "markdown",
   "id": "1a98ad73",
   "metadata": {
    "hidden": true
   },
   "source": [
    "### 2.1.1 Plot Comparison"
   ]
  },
  {
   "cell_type": "code",
   "execution_count": 6,
   "id": "32a7dc63",
   "metadata": {
    "ExecuteTime": {
     "end_time": "2023-03-11T01:32:02.854888Z",
     "start_time": "2023-03-11T01:32:02.738223Z"
    },
    "hidden": true
   },
   "outputs": [
    {
     "data": {
      "text/plain": [
       "<matplotlib.legend.Legend at 0x166a77a60>"
      ]
     },
     "execution_count": 6,
     "metadata": {},
     "output_type": "execute_result"
    },
    {
     "data": {
      "image/png": "[encoded data removed]",
      "text/plain": [
       "<Figure size 640x480 with 1 Axes>"
      ]
     },
     "metadata": {},
     "output_type": "display_data"
    }
   ],
   "source": [
    "# Plot hyperparameters\n",
    "plt.plot(values, scores, '-o', label=\"Test\")\n",
    "plt.legend()"
   ]
  },
  {
   "cell_type": "markdown",
   "id": "5a5ec21d",
   "metadata": {
    "heading_collapsed": true,
    "hidden": true
   },
   "source": [
    "## 2.2 Production Result"
   ]
  },
  {
   "cell_type": "code",
   "execution_count": 7,
   "id": "7cf0a7ab",
   "metadata": {
    "ExecuteTime": {
     "end_time": "2023-03-11T01:32:14.100261Z",
     "start_time": "2023-03-11T01:32:14.053224Z"
    },
    "hidden": true
   },
   "outputs": [
    {
     "name": "stdout",
     "output_type": "stream",
     "text": [
      "Accuracy: 0.8771666666666667\n"
     ]
    }
   ],
   "source": [
    "# Treinando o modelo sobre os dados de treino + teste\n",
    "last_model = tr.DecisionTreeClassifier(max_depth=7)\n",
    "last_model.fit(np.concatenate((x_train, x_test)), np.concatenate((y_train, y_test)))\n",
    "\n",
    "# Previsão sobre os dados de produção\n",
    "y_hat_prod = last_model.predict(x_prod)\n",
    "score_prod = mt.accuracy_score(y_prod, y_hat_prod)\n",
    "print(\"Accuracy: {}\".format(score_prod))"
   ]
  },
  {
   "cell_type": "markdown",
   "id": "4a250c71",
   "metadata": {
    "heading_collapsed": true
   },
   "source": [
    "# 3.0 Holdout - Train, Validation and Test"
   ]
  },
  {
   "cell_type": "code",
   "execution_count": 8,
   "id": "39fa4a6b",
   "metadata": {
    "ExecuteTime": {
     "end_time": "2023-03-11T01:32:16.006210Z",
     "start_time": "2023-03-11T01:32:15.999026Z"
    },
    "hidden": true
   },
   "outputs": [],
   "source": [
    "# Separando os dados de treino em treino 2 e validação\n",
    "x_train, x_val, y_train, y_val = ms.train_test_split(x_train, y_train, test_size=0.3, random_state=0)"
   ]
  },
  {
   "cell_type": "markdown",
   "id": "6eb03aee",
   "metadata": {
    "heading_collapsed": true,
    "hidden": true
   },
   "source": [
    "## 3.1 Fine Tuning Validation"
   ]
  },
  {
   "cell_type": "code",
   "execution_count": 9,
   "id": "cf57cd7f",
   "metadata": {
    "ExecuteTime": {
     "end_time": "2023-03-11T01:32:18.966226Z",
     "start_time": "2023-03-11T01:32:18.370201Z"
    },
    "hidden": true
   },
   "outputs": [],
   "source": [
    "# Encontrando o melhor parâmetro\n",
    "values = np.arange(1, 60, 1)\n",
    "scores_val = list()\n",
    "\n",
    "for i in values:\n",
    "    model = tr.DecisionTreeClassifier(max_depth=i)\n",
    "    model.fit(x_train, y_train)\n",
    "\n",
    "    y_hat_val = model.predict(x_val)\n",
    "    score_val = mt.accuracy_score(y_val, y_hat_val)\n",
    "    \n",
    "    scores_val.append(score_val)"
   ]
  },
  {
   "cell_type": "markdown",
   "id": "6dbde2e7",
   "metadata": {
    "hidden": true
   },
   "source": [
    "### 3.1.1 Plot Comparison"
   ]
  },
  {
   "cell_type": "code",
   "execution_count": 10,
   "id": "0213aaeb",
   "metadata": {
    "ExecuteTime": {
     "end_time": "2023-03-11T01:32:20.740609Z",
     "start_time": "2023-03-11T01:32:20.636875Z"
    },
    "hidden": true
   },
   "outputs": [
    {
     "data": {
      "text/plain": [
       "<matplotlib.legend.Legend at 0x166d0bd60>"
      ]
     },
     "execution_count": 10,
     "metadata": {},
     "output_type": "execute_result"
    },
    {
     "data": {
      "image/png": "[encoded data removed]",
      "text/plain": [
       "<Figure size 640x480 with 1 Axes>"
      ]
     },
     "metadata": {},
     "output_type": "display_data"
    }
   ],
   "source": [
    "# Plot hyperparameters\n",
    "plt.plot(values, scores_val, '-o', label=\"Validation\")\n",
    "plt.legend()"
   ]
  },
  {
   "cell_type": "markdown",
   "id": "2d9b51e7",
   "metadata": {
    "hidden": true
   },
   "source": [
    "### 3.1.2 Validation Result"
   ]
  },
  {
   "cell_type": "code",
   "execution_count": 11,
   "id": "ed38cf4e",
   "metadata": {
    "ExecuteTime": {
     "end_time": "2023-03-11T01:32:35.409453Z",
     "start_time": "2023-03-11T01:32:35.386318Z"
    },
    "hidden": true
   },
   "outputs": [
    {
     "name": "stdout",
     "output_type": "stream",
     "text": [
      "Accuracy Over Validation: 0.882312925170068\n"
     ]
    }
   ],
   "source": [
    "# Treinando o modelo sobre os dados de treino 2\n",
    "model = tr.DecisionTreeClassifier(max_depth=6)\n",
    "model.fit(x_train, y_train)\n",
    "\n",
    "# Previsão sobre os dados de validacao\n",
    "yhat_val = model.predict( x_val )\n",
    "acc_val = mt.accuracy_score( y_val, yhat_val )\n",
    "print( \"Accuracy Over Validation: {}\".format( acc_val ) )"
   ]
  },
  {
   "cell_type": "markdown",
   "id": "01056d72",
   "metadata": {
    "heading_collapsed": true,
    "hidden": true
   },
   "source": [
    "## 3.2 Test Result"
   ]
  },
  {
   "cell_type": "code",
   "execution_count": 12,
   "id": "b5cc2404",
   "metadata": {
    "ExecuteTime": {
     "end_time": "2023-03-11T01:32:37.484458Z",
     "start_time": "2023-03-11T01:32:37.449548Z"
    },
    "hidden": true
   },
   "outputs": [
    {
     "name": "stdout",
     "output_type": "stream",
     "text": [
      "Accuracy: 0.8885714285714286\n"
     ]
    }
   ],
   "source": [
    "# Treinando o modelo sobre os dados de treino 2 + validação \n",
    "last_model_test = tr.DecisionTreeClassifier(max_depth=7)\n",
    "last_model_test.fit(np.concatenate((x_train, x_val)), np.concatenate((y_train, y_val)))\n",
    "\n",
    "# Previsão sobre os dados de teste\n",
    "y_hat_test = last_model_test.predict(x_test)\n",
    "score_test = mt.accuracy_score(y_test, y_hat_test)\n",
    "print(\"Accuracy: {}\".format(score_test))"
   ]
  },
  {
   "cell_type": "markdown",
   "id": "b8a96829",
   "metadata": {
    "heading_collapsed": true,
    "hidden": true
   },
   "source": [
    "## 3.3 Production Final Result"
   ]
  },
  {
   "cell_type": "code",
   "execution_count": 13,
   "id": "31c73f82",
   "metadata": {
    "ExecuteTime": {
     "end_time": "2023-03-11T01:32:40.209321Z",
     "start_time": "2023-03-11T01:32:40.202635Z"
    },
    "hidden": true
   },
   "outputs": [
    {
     "name": "stdout",
     "output_type": "stream",
     "text": [
      "Accuracy: 0.888\n"
     ]
    }
   ],
   "source": [
    "# Previsão sobre os dados de produção\n",
    "# O score necessariamente precisa estar parecido com o score de teste\n",
    "y_hat_prod = last_model_test.predict(x_prod)\n",
    "score_prod = mt.accuracy_score(y_prod, y_hat_prod)\n",
    "print(\"Accuracy: {}\".format(score_prod))"
   ]
  }
 ],
 "metadata": {
  "kernelspec": {
   "display_name": "Python 3 (ipykernel)",
   "language": "python",
   "name": "python3"
  },
  "language_info": {
   "codemirror_mode": {
    "name": "ipython",
    "version": 3
   },
   "file_extension": ".py",
   "mimetype": "text/x-python",
   "name": "python",
   "nbconvert_exporter": "python",
   "pygments_lexer": "ipython3",
   "version": "3.8.13"
  },
  "varInspector": {
   "cols": {
    "lenName": 16,
    "lenType": 16,
    "lenVar": 40
   },
   "kernels_config": {
    "python": {
     "delete_cmd_postfix": "",
     "delete_cmd_prefix": "del ",
     "library": "var_list.py",
     "varRefreshCmd": "print(var_dic_list())"
    },
    "r": {
     "delete_cmd_postfix": ") ",
     "delete_cmd_prefix": "rm(",
     "library": "var_list.r",
     "varRefreshCmd": "cat(var_dic_list()) "
    }
   },
   "types_to_exclude": [
    "module",
    "function",
    "builtin_function_or_method",
    "instance",
    "_Feature"
   ],
   "window_display": false
  }
 },
 "nbformat": 4,
 "nbformat_minor": 5
}
